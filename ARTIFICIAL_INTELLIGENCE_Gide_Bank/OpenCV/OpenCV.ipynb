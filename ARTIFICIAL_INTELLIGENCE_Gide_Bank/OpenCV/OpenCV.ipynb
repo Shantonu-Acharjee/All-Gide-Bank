{
 "cells": [
  {
   "cell_type": "markdown",
   "source": [
    "# Video-5 Read Image"
   ],
   "metadata": {}
  },
  {
   "cell_type": "code",
   "execution_count": 1,
   "source": [
    "import cv2\r\n",
    "import numpy as np\r\n",
    "import os"
   ],
   "outputs": [],
   "metadata": {}
  },
  {
   "cell_type": "code",
   "execution_count": 2,
   "source": [
    "path = 'Photo//'\r\n",
    "img = cv2.imread(path + '1.jpg')\r\n",
    "image = cv2.resize(img, (600,400))\r\n",
    "print(img.shape)\r\n",
    "print(img)\r\n",
    "cv2.imshow('Image',image)\r\n",
    "cv2.waitKey()\r\n",
    "cv2.destroyAllWindows()"
   ],
   "outputs": [
    {
     "output_type": "stream",
     "name": "stdout",
     "text": [
      "(2576, 1932, 3)\n",
      "[[[249 227 202]\n",
      "  [252 228 204]\n",
      "  [249 225 201]\n",
      "  ...\n",
      "  [235 246 243]\n",
      "  [237 246 243]\n",
      "  [237 246 243]]\n",
      "\n",
      " [[249 227 202]\n",
      "  [253 229 205]\n",
      "  [251 227 203]\n",
      "  ...\n",
      "  [236 247 244]\n",
      "  [238 247 244]\n",
      "  [238 247 244]]\n",
      "\n",
      " [[249 227 202]\n",
      "  [251 229 204]\n",
      "  [250 226 204]\n",
      "  ...\n",
      "  [236 247 244]\n",
      "  [238 247 244]\n",
      "  [238 247 244]]\n",
      "\n",
      " ...\n",
      "\n",
      " [[136 152 151]\n",
      "  [138 154 153]\n",
      "  [140 156 155]\n",
      "  ...\n",
      "  [ 91  88  83]\n",
      "  [ 89  86  81]\n",
      "  [ 87  87  81]]\n",
      "\n",
      " [[138 154 153]\n",
      "  [139 155 154]\n",
      "  [142 158 157]\n",
      "  ...\n",
      "  [ 93  90  85]\n",
      "  [ 92  89  84]\n",
      "  [ 91  88  83]]\n",
      "\n",
      " [[140 156 155]\n",
      "  [139 155 154]\n",
      "  [142 158 157]\n",
      "  ...\n",
      "  [ 92  89  84]\n",
      "  [ 95  92  87]\n",
      "  [ 96  93  88]]]\n"
     ]
    }
   ],
   "metadata": {}
  },
  {
   "cell_type": "code",
   "execution_count": 3,
   "source": [
    "img = cv2.imread(path + '1.jpg',0)\r\n",
    "image = cv2.resize(img, (600,400))\r\n",
    "print(img.shape)\r\n",
    "print(img)\r\n",
    "cv2.imshow('Image',image)\r\n",
    "cv2.waitKey()\r\n",
    "cv2.destroyAllWindows()"
   ],
   "outputs": [
    {
     "output_type": "stream",
     "name": "stdout",
     "text": [
      "(2576, 1932)\n",
      "[[222 224 221 ... 244 244 244]\n",
      " [222 225 223 ... 245 245 245]\n",
      " [222 224 222 ... 245 245 245]\n",
      " ...\n",
      " [150 152 154 ...  87  85  85]\n",
      " [152 153 156 ...  89  88  87]\n",
      " [154 153 156 ...  88  91  92]]\n"
     ]
    }
   ],
   "metadata": {}
  },
  {
   "cell_type": "code",
   "execution_count": 4,
   "source": [
    "img = cv2.imread(path + '1.jpg', -1)\r\n",
    "image = cv2.resize(img, (600,400))\r\n",
    "print(img.shape)\r\n",
    "print(img)\r\n",
    "cv2.imshow('Image',image)\r\n",
    "cv2.waitKey()\r\n",
    "cv2.destroyAllWindows()"
   ],
   "outputs": [
    {
     "output_type": "stream",
     "name": "stdout",
     "text": [
      "(1932, 2576, 3)\n",
      "[[[140 156 155]\n",
      "  [138 154 153]\n",
      "  [136 152 151]\n",
      "  ...\n",
      "  [249 227 202]\n",
      "  [249 227 202]\n",
      "  [249 227 202]]\n",
      "\n",
      " [[139 155 154]\n",
      "  [139 155 154]\n",
      "  [138 154 153]\n",
      "  ...\n",
      "  [251 229 204]\n",
      "  [253 229 205]\n",
      "  [252 228 204]]\n",
      "\n",
      " [[142 158 157]\n",
      "  [142 158 157]\n",
      "  [140 156 155]\n",
      "  ...\n",
      "  [250 226 204]\n",
      "  [251 227 203]\n",
      "  [249 225 201]]\n",
      "\n",
      " ...\n",
      "\n",
      " [[ 92  89  84]\n",
      "  [ 93  90  85]\n",
      "  [ 91  88  83]\n",
      "  ...\n",
      "  [236 247 244]\n",
      "  [236 247 244]\n",
      "  [235 246 243]]\n",
      "\n",
      " [[ 95  92  87]\n",
      "  [ 92  89  84]\n",
      "  [ 89  86  81]\n",
      "  ...\n",
      "  [238 247 244]\n",
      "  [238 247 244]\n",
      "  [237 246 243]]\n",
      "\n",
      " [[ 96  93  88]\n",
      "  [ 91  88  83]\n",
      "  [ 87  87  81]\n",
      "  ...\n",
      "  [238 247 244]\n",
      "  [238 247 244]\n",
      "  [237 246 243]]]\n"
     ]
    }
   ],
   "metadata": {}
  },
  {
   "cell_type": "markdown",
   "source": [
    "# Video-6 Everything about cv2.imshow()"
   ],
   "metadata": {}
  },
  {
   "cell_type": "code",
   "execution_count": 5,
   "source": [
    "matx = np.zeros((200,200))\r\n",
    "matx"
   ],
   "outputs": [
    {
     "output_type": "execute_result",
     "data": {
      "text/plain": [
       "array([[0., 0., 0., ..., 0., 0., 0.],\n",
       "       [0., 0., 0., ..., 0., 0., 0.],\n",
       "       [0., 0., 0., ..., 0., 0., 0.],\n",
       "       ...,\n",
       "       [0., 0., 0., ..., 0., 0., 0.],\n",
       "       [0., 0., 0., ..., 0., 0., 0.],\n",
       "       [0., 0., 0., ..., 0., 0., 0.]])"
      ]
     },
     "metadata": {},
     "execution_count": 5
    }
   ],
   "metadata": {}
  },
  {
   "cell_type": "code",
   "execution_count": 6,
   "source": [
    "cv2.imshow('Zeros Matx', matx)\r\n",
    "cv2.waitKey()\r\n",
    "cv2.destroyAllWindows()"
   ],
   "outputs": [],
   "metadata": {}
  },
  {
   "cell_type": "code",
   "execution_count": 7,
   "source": [
    "img_path = 'Photo//1.jpg'\r\n",
    "img = cv2.imread(img_path)\r\n",
    "\r\n",
    "cv2.imshow('Model',img)\r\n",
    "cv2.waitKey()\r\n",
    "cv2.destroyAllWindows()"
   ],
   "outputs": [],
   "metadata": {}
  },
  {
   "cell_type": "markdown",
   "source": [
    "# Video -7 How to make Video\r\n"
   ],
   "metadata": {}
  },
  {
   "cell_type": "code",
   "execution_count": 8,
   "source": [
    "hieght = 720\r\n",
    "width = 1280\r\n",
    "channel = 3\r\n",
    "fps = 30\r\n",
    "sec = 5\r\n",
    "\r\n",
    "fourcc = cv2.VideoWriter_fourcc(*'MP42')\r\n",
    "video = cv2.VideoWriter('test.mp4', fourcc, float(fps), (width, hieght))\r\n",
    "for frame_count in range(fps*sec):\r\n",
    "    img = np.random.randint(0,255, (hieght, width, channel), dtype= np.uint8)\r\n",
    "    video.write(img)\r\n",
    "\r\n",
    "video.release()"
   ],
   "outputs": [],
   "metadata": {}
  },
  {
   "cell_type": "markdown",
   "source": [
    "# Video from Image"
   ],
   "metadata": {}
  },
  {
   "cell_type": "code",
   "execution_count": 9,
   "source": [
    "hieght = 720\r\n",
    "width = 1280\r\n",
    "channel = 3\r\n",
    "fps = 30\r\n",
    "sec = 5\r\n",
    "\r\n",
    "fourcc = cv2.VideoWriter_fourcc(*'MP42')\r\n",
    "video = cv2.VideoWriter('image_to_video.mp4', fourcc, float(fps), (width, hieght))\r\n",
    "\r\n",
    "\r\n",
    "directry = r'Photo//'\r\n",
    "img_name_list = os.listdir(directry)\r\n",
    "\r\n",
    "\r\n",
    "for frame_count in range(fps*sec):\r\n",
    "    img_name = np.random.choice(img_name_list)\r\n",
    "    img_path = os.path.join(directry,img_name)\r\n",
    "    img = cv2.imread(img_path)\r\n",
    "    img_resize = cv2.resize(img, (width, hieght))\r\n",
    "\r\n",
    "    video.write(img_resize)\r\n",
    "\r\n",
    "video.release()"
   ],
   "outputs": [],
   "metadata": {}
  },
  {
   "cell_type": "markdown",
   "source": [
    "# Video-8 Put Text Over Picture"
   ],
   "metadata": {}
  },
  {
   "cell_type": "code",
   "execution_count": 10,
   "source": [
    "img_path = r'Photo//1.jpg'\r\n",
    "image = cv2.imread(img_path)\r\n",
    "image = cv2.resize(image, (1280, 720))\r\n",
    "\r\n",
    "text = 'Shantonu'\r\n",
    "org = (100, 200)\r\n",
    "font = cv2.FONT_HERSHEY_COMPLEX\r\n",
    "fontScale = 6\r\n",
    "color = (0,0,0)\r\n",
    "thickness = 3\r\n",
    "lineType = cv2.LINE_AA\r\n",
    "bottomLeftOrigin = False\r\n",
    "\r\n",
    "img_text = cv2.putText(image, text, org, font, fontScale, color, thickness, lineType, bottomLeftOrigin)\r\n",
    "\r\n",
    "cv2.imshow('Text Image', img_text)\r\n",
    "cv2.waitKey()\r\n",
    "cv2.destroyAllWindows()"
   ],
   "outputs": [],
   "metadata": {}
  },
  {
   "cell_type": "code",
   "execution_count": 11,
   "source": [
    "img_path = r'Photo//1.jpg'\r\n",
    "image = cv2.imread(img_path)\r\n",
    "image = cv2.resize(image, (1280, 720))\r\n",
    "\r\n",
    "text = 'Shantonu'\r\n",
    "org = (100, 200)\r\n",
    "font = cv2.FONT_HERSHEY_COMPLEX\r\n",
    "fontScale = 6\r\n",
    "color = (0,0,0)\r\n",
    "thickness = 3\r\n",
    "lineType = cv2.LINE_AA\r\n",
    "bottomLeftOrigin = True\r\n",
    "\r\n",
    "img_text = cv2.putText(image, text, org, font, fontScale, color, thickness, lineType, bottomLeftOrigin)\r\n",
    "\r\n",
    "cv2.imshow('Text Image', img_text)\r\n",
    "cv2.waitKey()\r\n",
    "cv2.destroyAllWindows()"
   ],
   "outputs": [],
   "metadata": {}
  },
  {
   "cell_type": "code",
   "execution_count": 12,
   "source": [
    "img_path = r'Photo//1.jpg'\r\n",
    "image = cv2.imread(img_path)\r\n",
    "image = cv2.resize(image, (1280, 720))\r\n",
    "\r\n",
    "text = 'Shantonu'\r\n",
    "org = (100, 200)\r\n",
    "font = cv2.FONT_HERSHEY_COMPLEX\r\n",
    "fontScale = 6\r\n",
    "color = (0,0,0)\r\n",
    "thickness = 3\r\n",
    "lineType = cv2.LINE_AA\r\n",
    "bottomLeftOrigin = True\r\n",
    "\r\n",
    "img_text = cv2.putText(image, text, org, font, fontScale, color, thickness, lineType, bottomLeftOrigin)\r\n",
    "img_text = cv2.putText(image, text, org, font, fontScale, color, thickness, lineType, bottomLeftOrigin = False)\r\n",
    "\r\n",
    "cv2.imshow('Text Image', img_text)\r\n",
    "cv2.waitKey()\r\n",
    "cv2.destroyAllWindows()"
   ],
   "outputs": [],
   "metadata": {}
  },
  {
   "cell_type": "markdown",
   "source": [
    "# Video - 9 Draw a Rectangle"
   ],
   "metadata": {}
  },
  {
   "cell_type": "code",
   "execution_count": 13,
   "source": [
    "mg_path = r'Photo//1.jpg'\r\n",
    "image = cv2.imread(img_path)\r\n",
    "image = cv2.resize(image, (1280, 720))\r\n",
    "\r\n",
    "\r\n",
    "pt1 = (320, 200)\r\n",
    "pt2 = (820, 420)\r\n",
    "color = (0, 255, 0)\r\n",
    "thickness = 4\r\n",
    "lineType = cv2.LINE_4\r\n",
    "\r\n",
    "img_rect = cv2.rectangle(image, pt1, pt2, color, thickness, lineType)\r\n",
    "cv2.imshow('Rectangle On Image', img_rect)\r\n",
    "cv2.waitKey()\r\n",
    "cv2.destroyAllWindows()"
   ],
   "outputs": [],
   "metadata": {}
  },
  {
   "cell_type": "code",
   "execution_count": 14,
   "source": [
    "mg_path = r'Photo//1.jpg'\r\n",
    "image = cv2.imread(img_path)\r\n",
    "image = cv2.resize(image, (1280, 720))\r\n",
    "\r\n",
    "\r\n",
    "pt1 = (320, 200)\r\n",
    "pt2 = (820, 420)\r\n",
    "color = (255, 255, 0)\r\n",
    "thickness = -1 # to fill the rect\r\n",
    "lineType = cv2.LINE_4\r\n",
    "\r\n",
    "img_rect = cv2.rectangle(image, pt1, pt2, color, thickness, lineType)\r\n",
    "cv2.imshow('Rectangle On Image', img_rect)\r\n",
    "cv2.waitKey()\r\n",
    "cv2.destroyAllWindows()"
   ],
   "outputs": [],
   "metadata": {}
  },
  {
   "cell_type": "code",
   "execution_count": 15,
   "source": [
    "mg_path = r'Photo//1.jpg'\r\n",
    "image = cv2.imread(img_path)\r\n",
    "image = cv2.resize(image, (1280, 720))\r\n",
    "\r\n",
    "\r\n",
    "pt1 = (320, 200)\r\n",
    "pt2 = (820, 420)\r\n",
    "color = (0, 255, 0)\r\n",
    "thickness = 4\r\n",
    "lineType = cv2.LINE_4\r\n",
    "\r\n",
    "img_rect = cv2.rectangle(image, pt1, pt2, color, thickness, lineType)\r\n",
    "# Text On Image\r\n",
    "text = 'Shantonu'\r\n",
    "org = (100, 200)\r\n",
    "font = cv2.FONT_HERSHEY_COMPLEX\r\n",
    "fontScale = 6\r\n",
    "color = (0,0,0)\r\n",
    "thickness = 3\r\n",
    "lineType = cv2.LINE_AA\r\n",
    "\r\n",
    "img_text = cv2.putText(image, text, org, font, fontScale, color, thickness, lineType, bottomLeftOrigin = False)\r\n",
    "\r\n",
    "\r\n",
    "\r\n",
    "\r\n",
    "cv2.imshow('Rectangle On Image With Text', img_rect)\r\n",
    "cv2.imshow('Rectangle On Image With Text', img_text)\r\n",
    "\r\n",
    "cv2.imwrite('Image_with_rect_text.png', img_text)\r\n",
    "\r\n",
    "cv2.waitKey()\r\n",
    "cv2.destroyAllWindows()"
   ],
   "outputs": [],
   "metadata": {}
  },
  {
   "cell_type": "markdown",
   "source": [
    "# Video - 10 Draw Circle"
   ],
   "metadata": {}
  },
  {
   "cell_type": "code",
   "execution_count": 16,
   "source": [
    "img_path = r'Photo//1.jpg'\r\n",
    "image = cv2.imread(img_path)\r\n",
    "image = cv2.resize(image, (1280, 720))\r\n",
    "\r\n",
    "center = (600, 250)\r\n",
    "radius = 180\r\n",
    "color = (23,210,75)\r\n",
    "thickness = 3\r\n",
    "lineType = cv2.LINE_8\r\n",
    "shift = 0\r\n",
    "\r\n",
    "cv2.circle(image, center, radius, color, thickness, lineType, shift)\r\n",
    "cv2.imshow('Circle', image)\r\n",
    "\r\n",
    "\r\n",
    "\r\n",
    "cv2.waitKey()\r\n",
    "cv2.destroyAllWindows()"
   ],
   "outputs": [],
   "metadata": {}
  },
  {
   "cell_type": "code",
   "execution_count": 17,
   "source": [
    "img_path = r'Photo//1.jpg'\r\n",
    "image = cv2.imread(img_path)\r\n",
    "image = cv2.resize(image, (1280, 720))\r\n",
    "\r\n",
    "center = (600, 250)\r\n",
    "radius = 180\r\n",
    "color = (23,210,75)\r\n",
    "thickness = 3\r\n",
    "lineType = cv2.LINE_8\r\n",
    "shift = 0\r\n",
    "\r\n",
    "cv2.circle(image, center, radius, color, thickness, lineType, shift)\r\n",
    "center = (640, 450)\r\n",
    "cv2.circle(image, center, radius, color, thickness, lineType, shift)\r\n",
    "\r\n",
    "cv2.imshow('Circle', image)\r\n",
    "\r\n",
    "\r\n",
    "\r\n",
    "cv2.waitKey()\r\n",
    "cv2.destroyAllWindows()"
   ],
   "outputs": [],
   "metadata": {}
  },
  {
   "cell_type": "markdown",
   "source": [
    "# Video - 11 Draw Line"
   ],
   "metadata": {}
  },
  {
   "cell_type": "code",
   "execution_count": 18,
   "source": [
    "img_path = r'Photo//1.jpg'\r\n",
    "image = cv2.imread(img_path)\r\n",
    "image = cv2.resize(image, (1280, 720))\r\n",
    "\r\n",
    "pt1 = (500, 140)\r\n",
    "plt2 = (1050, 140)\r\n",
    "color = (23, 200, 54)\r\n",
    "thickness = 5\r\n",
    "\r\n",
    "cv2.line(image, pt1, pt2, color, thickness)\r\n",
    "\r\n",
    "\r\n",
    "cv2.imshow('Image', image)\r\n",
    "cv2.waitKey()\r\n",
    "cv2.destroyAllWindows()"
   ],
   "outputs": [],
   "metadata": {}
  },
  {
   "cell_type": "markdown",
   "source": [
    "# Video - 12 Draw Ellipse"
   ],
   "metadata": {}
  },
  {
   "cell_type": "code",
   "execution_count": 19,
   "source": [
    "img_path = r'Photo//1.jpg'\r\n",
    "image = cv2.imread(img_path)\r\n",
    "image = cv2.resize(image, (1280, 720))\r\n",
    "\r\n",
    "center = (500, 230)\r\n",
    "axes = (100, 200)\r\n",
    "angle = 30\r\n",
    "startAngle = 0\r\n",
    "endAngle = 360\r\n",
    "color = (0,0,255)\r\n",
    "\r\n",
    "cv2.ellipse(image, center, axes, angle, startAngle, endAngle, color )\r\n",
    "\r\n",
    "cv2.imshow('Image', image)\r\n",
    "cv2.waitKey()\r\n",
    "cv2.destroyAllWindows()"
   ],
   "outputs": [],
   "metadata": {}
  },
  {
   "cell_type": "markdown",
   "source": [
    "# Video - 13 Draw Polygones"
   ],
   "metadata": {}
  },
  {
   "cell_type": "code",
   "execution_count": 20,
   "source": [
    "img_path = r'Photo//1.jpg'\r\n",
    "image = cv2.imread(img_path)\r\n",
    "image = cv2.resize(image, (1280, 720))\r\n",
    "\r\n",
    "pts = np.array([[12,45], [34,56], [23,76], [67, 98], [93,56]])\r\n",
    "isClosed = True\r\n",
    "color = (34, 65, 37)\r\n",
    "thickness = 5\r\n",
    "\r\n",
    "cv2.polylines(image, [pts], isClosed, color, thickness)\r\n",
    "cv2.imshow('Image', image)\r\n",
    "cv2.waitKey()\r\n",
    "cv2.destroyAllWindows()"
   ],
   "outputs": [],
   "metadata": {}
  },
  {
   "cell_type": "markdown",
   "source": [
    "# Video - 14 Change Image Color"
   ],
   "metadata": {}
  },
  {
   "cell_type": "code",
   "execution_count": 21,
   "source": [
    "img_path = r'Photo//13.jpg'\r\n",
    "image = cv2.imread(img_path)\r\n",
    "image = cv2.resize(image, (650, 650))\r\n",
    "\r\n",
    "\r\n",
    "\r\n",
    "cv2.imshow('Image', image)\r\n",
    "cv2.waitKey()\r\n",
    "cv2.destroyAllWindows()"
   ],
   "outputs": [],
   "metadata": {}
  },
  {
   "cell_type": "code",
   "execution_count": 22,
   "source": [
    "image.shape"
   ],
   "outputs": [
    {
     "output_type": "execute_result",
     "data": {
      "text/plain": [
       "(650, 650, 3)"
      ]
     },
     "metadata": {},
     "execution_count": 22
    }
   ],
   "metadata": {}
  },
  {
   "cell_type": "code",
   "execution_count": 23,
   "source": [
    "image[:, :, 0] # Blue"
   ],
   "outputs": [
    {
     "output_type": "execute_result",
     "data": {
      "text/plain": [
       "array([[ 80,  96, 111, ...,  96,  95, 100],\n",
       "       [120, 126, 132, ...,  91,  96,  91],\n",
       "       [119, 125, 129, ...,  87,  91,  85],\n",
       "       ...,\n",
       "       [188, 189, 187, ..., 212, 212, 210],\n",
       "       [187, 186, 188, ..., 210, 209, 206],\n",
       "       [186, 192, 188, ..., 201, 200, 201]], dtype=uint8)"
      ]
     },
     "metadata": {},
     "execution_count": 23
    }
   ],
   "metadata": {}
  },
  {
   "cell_type": "code",
   "execution_count": 24,
   "source": [
    "image[:, :, 1] # Green"
   ],
   "outputs": [
    {
     "output_type": "execute_result",
     "data": {
      "text/plain": [
       "array([[ 70,  87, 108, ...,  99,  98, 106],\n",
       "       [121, 127, 133, ...,  96, 101,  98],\n",
       "       [118, 126, 128, ...,  93,  96,  89],\n",
       "       ...,\n",
       "       [173, 174, 172, ..., 204, 204, 203],\n",
       "       [172, 171, 173, ..., 202, 201, 197],\n",
       "       [174, 177, 173, ..., 193, 192, 193]], dtype=uint8)"
      ]
     },
     "metadata": {},
     "execution_count": 24
    }
   ],
   "metadata": {}
  },
  {
   "cell_type": "code",
   "execution_count": 25,
   "source": [
    "image[:, :, 2] # Red"
   ],
   "outputs": [
    {
     "output_type": "execute_result",
     "data": {
      "text/plain": [
       "array([[ 66,  83, 103, ...,  97,  96,  95],\n",
       "       [120, 125, 129, ...,  94,  99,  92],\n",
       "       [119, 124, 124, ...,  88,  94,  85],\n",
       "       ...,\n",
       "       [171, 173, 169, ..., 197, 197, 196],\n",
       "       [170, 169, 171, ..., 195, 194, 192],\n",
       "       [170, 174, 170, ..., 186, 185, 186]], dtype=uint8)"
      ]
     },
     "metadata": {},
     "execution_count": 25
    }
   ],
   "metadata": {}
  },
  {
   "cell_type": "code",
   "execution_count": 26,
   "source": [
    "img_path = r'Photo//13.jpg'\r\n",
    "image = cv2.imread(img_path)\r\n",
    "image = cv2.resize(image, (650, 650))\r\n",
    "\r\n",
    "img_gray = cv2.cvtColor(image, cv2.COLOR_BGR2GRAY, )\r\n",
    "\r\n",
    "cv2.imshow('Image', img_gray)\r\n",
    "cv2.waitKey()\r\n",
    "cv2.destroyAllWindows()"
   ],
   "outputs": [],
   "metadata": {}
  },
  {
   "cell_type": "code",
   "execution_count": 27,
   "source": [
    "img_path = r'Photo//13.jpg'\r\n",
    "image = cv2.imread(img_path)\r\n",
    "image = cv2.resize(image, (650, 650))\r\n",
    "\r\n",
    "img_gray = cv2.cvtColor(image, cv2.COLOR_BGR2HSV, )\r\n",
    "\r\n",
    "cv2.imshow('Image', img_gray)\r\n",
    "cv2.waitKey()\r\n",
    "cv2.destroyAllWindows()"
   ],
   "outputs": [],
   "metadata": {}
  },
  {
   "cell_type": "code",
   "execution_count": 28,
   "source": [
    "img_path = r'Photo//13.jpg'\r\n",
    "image = cv2.imread(img_path)\r\n",
    "image = cv2.resize(image, (650, 650))\r\n",
    "\r\n",
    "img_gray = cv2.cvtColor(image, cv2.COLOR_BGR2YCrCb, )\r\n",
    "\r\n",
    "cv2.imshow('Image', img_gray)\r\n",
    "cv2.waitKey()\r\n",
    "cv2.destroyAllWindows()"
   ],
   "outputs": [],
   "metadata": {}
  },
  {
   "cell_type": "code",
   "execution_count": 29,
   "source": [
    "cv2.COLOR_BGR2YCrCb # Give us a number code"
   ],
   "outputs": [
    {
     "output_type": "execute_result",
     "data": {
      "text/plain": [
       "36"
      ]
     },
     "metadata": {},
     "execution_count": 29
    }
   ],
   "metadata": {}
  },
  {
   "cell_type": "code",
   "execution_count": 30,
   "source": [
    "img_path = r'Photo//13.jpg'\r\n",
    "image = cv2.imread(img_path)\r\n",
    "image = cv2.resize(image, (650, 650))\r\n",
    "\r\n",
    "img_gray = cv2.cvtColor(image, 36, )\r\n",
    "\r\n",
    "cv2.imshow('Image', img_gray)\r\n",
    "cv2.waitKey()\r\n",
    "cv2.destroyAllWindows()"
   ],
   "outputs": [],
   "metadata": {}
  },
  {
   "cell_type": "markdown",
   "source": [
    "# Video - 15 Split And Merge Image"
   ],
   "metadata": {}
  },
  {
   "cell_type": "code",
   "execution_count": 31,
   "source": [
    "img_path = r'Photo//13.jpg'\r\n",
    "image = cv2.imread(img_path)\r\n",
    "image = cv2.resize(image, (650, 650))\r\n",
    "\r\n",
    "\r\n",
    "\r\n",
    "\r\n",
    "\r\n",
    "\r\n",
    "\r\n",
    "image"
   ],
   "outputs": [
    {
     "output_type": "execute_result",
     "data": {
      "text/plain": [
       "array([[[ 80,  70,  66],\n",
       "        [ 96,  87,  83],\n",
       "        [111, 108, 103],\n",
       "        ...,\n",
       "        [ 96,  99,  97],\n",
       "        [ 95,  98,  96],\n",
       "        [100, 106,  95]],\n",
       "\n",
       "       [[120, 121, 120],\n",
       "        [126, 127, 125],\n",
       "        [132, 133, 129],\n",
       "        ...,\n",
       "        [ 91,  96,  94],\n",
       "        [ 96, 101,  99],\n",
       "        [ 91,  98,  92]],\n",
       "\n",
       "       [[119, 118, 119],\n",
       "        [125, 126, 124],\n",
       "        [129, 128, 124],\n",
       "        ...,\n",
       "        [ 87,  93,  88],\n",
       "        [ 91,  96,  94],\n",
       "        [ 85,  89,  85]],\n",
       "\n",
       "       ...,\n",
       "\n",
       "       [[188, 173, 171],\n",
       "        [189, 174, 173],\n",
       "        [187, 172, 169],\n",
       "        ...,\n",
       "        [212, 204, 197],\n",
       "        [212, 204, 197],\n",
       "        [210, 203, 196]],\n",
       "\n",
       "       [[187, 172, 170],\n",
       "        [186, 171, 169],\n",
       "        [188, 173, 171],\n",
       "        ...,\n",
       "        [210, 202, 195],\n",
       "        [209, 201, 194],\n",
       "        [206, 197, 192]],\n",
       "\n",
       "       [[186, 174, 170],\n",
       "        [192, 177, 174],\n",
       "        [188, 173, 170],\n",
       "        ...,\n",
       "        [201, 193, 186],\n",
       "        [200, 192, 185],\n",
       "        [201, 193, 186]]], dtype=uint8)"
      ]
     },
     "metadata": {},
     "execution_count": 31
    }
   ],
   "metadata": {}
  },
  {
   "cell_type": "code",
   "execution_count": 32,
   "source": [
    "image.shape"
   ],
   "outputs": [
    {
     "output_type": "execute_result",
     "data": {
      "text/plain": [
       "(650, 650, 3)"
      ]
     },
     "metadata": {},
     "execution_count": 32
    }
   ],
   "metadata": {}
  },
  {
   "cell_type": "code",
   "execution_count": 33,
   "source": [
    "image[:, :, 0] # b = 0, g = 1, r = 2"
   ],
   "outputs": [
    {
     "output_type": "execute_result",
     "data": {
      "text/plain": [
       "array([[ 80,  96, 111, ...,  96,  95, 100],\n",
       "       [120, 126, 132, ...,  91,  96,  91],\n",
       "       [119, 125, 129, ...,  87,  91,  85],\n",
       "       ...,\n",
       "       [188, 189, 187, ..., 212, 212, 210],\n",
       "       [187, 186, 188, ..., 210, 209, 206],\n",
       "       [186, 192, 188, ..., 201, 200, 201]], dtype=uint8)"
      ]
     },
     "metadata": {},
     "execution_count": 33
    }
   ],
   "metadata": {}
  },
  {
   "cell_type": "code",
   "execution_count": 34,
   "source": [
    "image[:, :, 0].shape"
   ],
   "outputs": [
    {
     "output_type": "execute_result",
     "data": {
      "text/plain": [
       "(650, 650)"
      ]
     },
     "metadata": {},
     "execution_count": 34
    }
   ],
   "metadata": {}
  },
  {
   "cell_type": "code",
   "execution_count": 35,
   "source": [
    "image[:, :, 1]"
   ],
   "outputs": [
    {
     "output_type": "execute_result",
     "data": {
      "text/plain": [
       "array([[ 70,  87, 108, ...,  99,  98, 106],\n",
       "       [121, 127, 133, ...,  96, 101,  98],\n",
       "       [118, 126, 128, ...,  93,  96,  89],\n",
       "       ...,\n",
       "       [173, 174, 172, ..., 204, 204, 203],\n",
       "       [172, 171, 173, ..., 202, 201, 197],\n",
       "       [174, 177, 173, ..., 193, 192, 193]], dtype=uint8)"
      ]
     },
     "metadata": {},
     "execution_count": 35
    }
   ],
   "metadata": {}
  },
  {
   "cell_type": "code",
   "execution_count": 36,
   "source": [
    "image[:, :, 2]"
   ],
   "outputs": [
    {
     "output_type": "execute_result",
     "data": {
      "text/plain": [
       "array([[ 66,  83, 103, ...,  97,  96,  95],\n",
       "       [120, 125, 129, ...,  94,  99,  92],\n",
       "       [119, 124, 124, ...,  88,  94,  85],\n",
       "       ...,\n",
       "       [171, 173, 169, ..., 197, 197, 196],\n",
       "       [170, 169, 171, ..., 195, 194, 192],\n",
       "       [170, 174, 170, ..., 186, 185, 186]], dtype=uint8)"
      ]
     },
     "metadata": {},
     "execution_count": 36
    }
   ],
   "metadata": {}
  },
  {
   "cell_type": "markdown",
   "source": [
    "# Split Image Using cv2.split()"
   ],
   "metadata": {}
  },
  {
   "cell_type": "code",
   "execution_count": 37,
   "source": [
    "b, g, r = cv2.split(image)"
   ],
   "outputs": [],
   "metadata": {}
  },
  {
   "cell_type": "code",
   "execution_count": 38,
   "source": [
    "b"
   ],
   "outputs": [
    {
     "output_type": "execute_result",
     "data": {
      "text/plain": [
       "array([[ 80,  96, 111, ...,  96,  95, 100],\n",
       "       [120, 126, 132, ...,  91,  96,  91],\n",
       "       [119, 125, 129, ...,  87,  91,  85],\n",
       "       ...,\n",
       "       [188, 189, 187, ..., 212, 212, 210],\n",
       "       [187, 186, 188, ..., 210, 209, 206],\n",
       "       [186, 192, 188, ..., 201, 200, 201]], dtype=uint8)"
      ]
     },
     "metadata": {},
     "execution_count": 38
    }
   ],
   "metadata": {}
  },
  {
   "cell_type": "code",
   "execution_count": 39,
   "source": [
    "g"
   ],
   "outputs": [
    {
     "output_type": "execute_result",
     "data": {
      "text/plain": [
       "array([[ 70,  87, 108, ...,  99,  98, 106],\n",
       "       [121, 127, 133, ...,  96, 101,  98],\n",
       "       [118, 126, 128, ...,  93,  96,  89],\n",
       "       ...,\n",
       "       [173, 174, 172, ..., 204, 204, 203],\n",
       "       [172, 171, 173, ..., 202, 201, 197],\n",
       "       [174, 177, 173, ..., 193, 192, 193]], dtype=uint8)"
      ]
     },
     "metadata": {},
     "execution_count": 39
    }
   ],
   "metadata": {}
  },
  {
   "cell_type": "code",
   "execution_count": 40,
   "source": [
    "r"
   ],
   "outputs": [
    {
     "output_type": "execute_result",
     "data": {
      "text/plain": [
       "array([[ 66,  83, 103, ...,  97,  96,  95],\n",
       "       [120, 125, 129, ...,  94,  99,  92],\n",
       "       [119, 124, 124, ...,  88,  94,  85],\n",
       "       ...,\n",
       "       [171, 173, 169, ..., 197, 197, 196],\n",
       "       [170, 169, 171, ..., 195, 194, 192],\n",
       "       [170, 174, 170, ..., 186, 185, 186]], dtype=uint8)"
      ]
     },
     "metadata": {},
     "execution_count": 40
    }
   ],
   "metadata": {}
  },
  {
   "cell_type": "code",
   "execution_count": 41,
   "source": [
    "import time\r\n",
    "\r\n",
    "start_time = time.time()\r\n",
    "\r\n",
    "img_path = r'Photo//13.jpg'\r\n",
    "image = cv2.imread(img_path)\r\n",
    "image = cv2.resize(image, (650, 650))\r\n",
    "\r\n",
    "for i in range(100):\r\n",
    "    b,g,r = cv2.split(image)\r\n",
    "\r\n",
    "\r\n",
    "end_time = time.time()\r\n",
    "\r\n",
    "print('Total time to take 100 image split : ', end_time - start_time)"
   ],
   "outputs": [
    {
     "output_type": "stream",
     "name": "stdout",
     "text": [
      "Total time to take 100 image split :  0.21508049964904785\n"
     ]
    }
   ],
   "metadata": {}
  },
  {
   "cell_type": "code",
   "execution_count": 42,
   "source": [
    "import time\r\n",
    "\r\n",
    "start_time = time.time()\r\n",
    "\r\n",
    "img_path = r'Photo//13.jpg'\r\n",
    "image = cv2.imread(img_path)\r\n",
    "image = cv2.resize(image, (650, 650))\r\n",
    "\r\n",
    "for i in range(100):\r\n",
    "    b = image[:, :, 0]\r\n",
    "    g = image[:, :, 1]\r\n",
    "    r = image[:, :, 2]\r\n",
    "\r\n",
    "\r\n",
    "end_time = time.time()\r\n",
    "\r\n",
    "print('Total time to take 100 image split : ', end_time - start_time)"
   ],
   "outputs": [
    {
     "output_type": "stream",
     "name": "stdout",
     "text": [
      "Total time to take 100 image split :  0.17117810249328613\n"
     ]
    }
   ],
   "metadata": {}
  },
  {
   "cell_type": "code",
   "execution_count": 43,
   "source": [
    "img_path = r'Photo//13.jpg'\r\n",
    "image = cv2.imread(img_path)\r\n",
    "image = cv2.resize(image, (650, 650))\r\n",
    "\r\n",
    "\r\n",
    "cv2.imshow('Blue Image', image[:, :, 0])\r\n",
    "cv2.imshow('Greeen Image', image[:, :, 1])\r\n",
    "cv2.imshow('Red Image', image[:, :, 2])\r\n",
    "\r\n",
    "\r\n",
    "cv2.waitKey()\r\n",
    "cv2.destroyAllWindows()"
   ],
   "outputs": [],
   "metadata": {}
  },
  {
   "cell_type": "code",
   "execution_count": 44,
   "source": [
    "img_path = r'Photo//13.jpg'\r\n",
    "image = cv2.imread(img_path)\r\n",
    "image = cv2.resize(image, (650, 650))\r\n",
    "\r\n",
    "b, g, r = cv2.split(image)\r\n",
    "\r\n",
    "cv2.imshow('Blue Image', b)\r\n",
    "cv2.imshow('Greeen Image', g)\r\n",
    "cv2.imshow('Red Image', r)\r\n",
    "\r\n",
    "\r\n",
    "cv2.waitKey()\r\n",
    "cv2.destroyAllWindows()"
   ],
   "outputs": [],
   "metadata": {}
  },
  {
   "cell_type": "markdown",
   "source": [
    "# Merge Image"
   ],
   "metadata": {}
  },
  {
   "cell_type": "code",
   "execution_count": 45,
   "source": [
    "merge_img = cv2.merge([b, g, r])\r\n",
    "\r\n",
    "merge_img"
   ],
   "outputs": [
    {
     "output_type": "execute_result",
     "data": {
      "text/plain": [
       "array([[[ 80,  70,  66],\n",
       "        [ 96,  87,  83],\n",
       "        [111, 108, 103],\n",
       "        ...,\n",
       "        [ 96,  99,  97],\n",
       "        [ 95,  98,  96],\n",
       "        [100, 106,  95]],\n",
       "\n",
       "       [[120, 121, 120],\n",
       "        [126, 127, 125],\n",
       "        [132, 133, 129],\n",
       "        ...,\n",
       "        [ 91,  96,  94],\n",
       "        [ 96, 101,  99],\n",
       "        [ 91,  98,  92]],\n",
       "\n",
       "       [[119, 118, 119],\n",
       "        [125, 126, 124],\n",
       "        [129, 128, 124],\n",
       "        ...,\n",
       "        [ 87,  93,  88],\n",
       "        [ 91,  96,  94],\n",
       "        [ 85,  89,  85]],\n",
       "\n",
       "       ...,\n",
       "\n",
       "       [[188, 173, 171],\n",
       "        [189, 174, 173],\n",
       "        [187, 172, 169],\n",
       "        ...,\n",
       "        [212, 204, 197],\n",
       "        [212, 204, 197],\n",
       "        [210, 203, 196]],\n",
       "\n",
       "       [[187, 172, 170],\n",
       "        [186, 171, 169],\n",
       "        [188, 173, 171],\n",
       "        ...,\n",
       "        [210, 202, 195],\n",
       "        [209, 201, 194],\n",
       "        [206, 197, 192]],\n",
       "\n",
       "       [[186, 174, 170],\n",
       "        [192, 177, 174],\n",
       "        [188, 173, 170],\n",
       "        ...,\n",
       "        [201, 193, 186],\n",
       "        [200, 192, 185],\n",
       "        [201, 193, 186]]], dtype=uint8)"
      ]
     },
     "metadata": {},
     "execution_count": 45
    }
   ],
   "metadata": {}
  },
  {
   "cell_type": "code",
   "execution_count": 46,
   "source": [
    "merge_img.shape"
   ],
   "outputs": [
    {
     "output_type": "execute_result",
     "data": {
      "text/plain": [
       "(650, 650, 3)"
      ]
     },
     "metadata": {},
     "execution_count": 46
    }
   ],
   "metadata": {}
  },
  {
   "cell_type": "code",
   "execution_count": 47,
   "source": [
    "img_path = r'Photo//13.jpg'\r\n",
    "image = cv2.imread(img_path)\r\n",
    "image = cv2.resize(image, (650, 650))\r\n",
    "\r\n",
    "b, g, r = cv2.split(image)\r\n",
    "\r\n",
    "cv2.imshow('Blue Image', b)\r\n",
    "cv2.imshow('Greeen Image', g)\r\n",
    "cv2.imshow('Red Image', r)\r\n",
    "cv2.imshow('Mearge Image', merge_img)\r\n",
    "\r\n",
    "\r\n",
    "cv2.waitKey()\r\n",
    "cv2.destroyAllWindows()"
   ],
   "outputs": [],
   "metadata": {}
  },
  {
   "cell_type": "markdown",
   "source": [
    "# Video - 15 Done"
   ],
   "metadata": {}
  },
  {
   "cell_type": "markdown",
   "source": [
    "# Convert RGB(color) image into Blue,Green, Red"
   ],
   "metadata": {}
  },
  {
   "cell_type": "code",
   "execution_count": 48,
   "source": [
    "img_path = r'Photo//13.jpg'\r\n",
    "image = cv2.imread(img_path)\r\n",
    "image = cv2.resize(image, (650, 650))\r\n",
    "\r\n",
    "\r\n",
    "\r\n",
    "cv2.imshow('Image', image)\r\n",
    "cv2.waitKey()\r\n",
    "cv2.destroyAllWindows()"
   ],
   "outputs": [],
   "metadata": {}
  },
  {
   "cell_type": "code",
   "execution_count": 49,
   "source": [
    "image.shape"
   ],
   "outputs": [
    {
     "output_type": "execute_result",
     "data": {
      "text/plain": [
       "(650, 650, 3)"
      ]
     },
     "metadata": {},
     "execution_count": 49
    }
   ],
   "metadata": {}
  },
  {
   "cell_type": "markdown",
   "source": [
    "# Blue Image"
   ],
   "metadata": {}
  },
  {
   "cell_type": "code",
   "execution_count": 50,
   "source": [
    "b, g, r = cv2.split(image)\r\n",
    "zeros_ch = np.zeros(image.shape[0:2], dtype = 'uint8')"
   ],
   "outputs": [],
   "metadata": {}
  },
  {
   "cell_type": "code",
   "execution_count": 51,
   "source": [
    "blue_img = cv2.merge([b, zeros_ch, zeros_ch])\r\n",
    "cv2.imshow('Blue Image', blue_img)\r\n",
    "cv2.waitKey()\r\n",
    "cv2.destroyAllWindows()"
   ],
   "outputs": [],
   "metadata": {}
  },
  {
   "cell_type": "markdown",
   "source": [
    "# Red Image"
   ],
   "metadata": {}
  },
  {
   "cell_type": "code",
   "execution_count": 52,
   "source": [
    "green_img = cv2.merge([zeros_ch, g, zeros_ch])\r\n",
    "cv2.imshow('Green Image', green_img)\r\n",
    "cv2.waitKey()\r\n",
    "cv2.destroyAllWindows()"
   ],
   "outputs": [],
   "metadata": {}
  },
  {
   "cell_type": "markdown",
   "source": [
    "# Red Image"
   ],
   "metadata": {}
  },
  {
   "cell_type": "code",
   "execution_count": 53,
   "source": [
    "red_img = cv2.merge([zeros_ch, zeros_ch, r])\r\n",
    "cv2.imshow('Red Image', red_img)\r\n",
    "cv2.waitKey()\r\n",
    "cv2.destroyAllWindows()"
   ],
   "outputs": [],
   "metadata": {}
  },
  {
   "cell_type": "markdown",
   "source": [
    "# Video 16 Done"
   ],
   "metadata": {}
  },
  {
   "cell_type": "markdown",
   "source": [
    "# Show Histogram of Image"
   ],
   "metadata": {}
  },
  {
   "cell_type": "code",
   "execution_count": 54,
   "source": [
    "import matplotlib.pyplot as plt\r\n",
    "\r\n",
    "img_path = r'Photo//13.jpg'\r\n",
    "image = cv2.imread(img_path)\r\n",
    "image = cv2.resize(image, (650, 650))\r\n",
    "\r\n",
    "\r\n",
    "\r\n",
    "cv2.imshow('Image', image)\r\n",
    "cv2.waitKey()\r\n",
    "cv2.destroyAllWindows()\r\n"
   ],
   "outputs": [],
   "metadata": {}
  },
  {
   "cell_type": "code",
   "execution_count": 55,
   "source": [
    "image"
   ],
   "outputs": [
    {
     "output_type": "execute_result",
     "data": {
      "text/plain": [
       "array([[[ 80,  70,  66],\n",
       "        [ 96,  87,  83],\n",
       "        [111, 108, 103],\n",
       "        ...,\n",
       "        [ 96,  99,  97],\n",
       "        [ 95,  98,  96],\n",
       "        [100, 106,  95]],\n",
       "\n",
       "       [[120, 121, 120],\n",
       "        [126, 127, 125],\n",
       "        [132, 133, 129],\n",
       "        ...,\n",
       "        [ 91,  96,  94],\n",
       "        [ 96, 101,  99],\n",
       "        [ 91,  98,  92]],\n",
       "\n",
       "       [[119, 118, 119],\n",
       "        [125, 126, 124],\n",
       "        [129, 128, 124],\n",
       "        ...,\n",
       "        [ 87,  93,  88],\n",
       "        [ 91,  96,  94],\n",
       "        [ 85,  89,  85]],\n",
       "\n",
       "       ...,\n",
       "\n",
       "       [[188, 173, 171],\n",
       "        [189, 174, 173],\n",
       "        [187, 172, 169],\n",
       "        ...,\n",
       "        [212, 204, 197],\n",
       "        [212, 204, 197],\n",
       "        [210, 203, 196]],\n",
       "\n",
       "       [[187, 172, 170],\n",
       "        [186, 171, 169],\n",
       "        [188, 173, 171],\n",
       "        ...,\n",
       "        [210, 202, 195],\n",
       "        [209, 201, 194],\n",
       "        [206, 197, 192]],\n",
       "\n",
       "       [[186, 174, 170],\n",
       "        [192, 177, 174],\n",
       "        [188, 173, 170],\n",
       "        ...,\n",
       "        [201, 193, 186],\n",
       "        [200, 192, 185],\n",
       "        [201, 193, 186]]], dtype=uint8)"
      ]
     },
     "metadata": {},
     "execution_count": 55
    }
   ],
   "metadata": {}
  },
  {
   "cell_type": "code",
   "execution_count": 56,
   "source": [
    "image.ravel()"
   ],
   "outputs": [
    {
     "output_type": "execute_result",
     "data": {
      "text/plain": [
       "array([ 80,  70,  66, ..., 201, 193, 186], dtype=uint8)"
      ]
     },
     "metadata": {},
     "execution_count": 56
    }
   ],
   "metadata": {}
  },
  {
   "cell_type": "code",
   "execution_count": 57,
   "source": [
    "image.shape"
   ],
   "outputs": [
    {
     "output_type": "execute_result",
     "data": {
      "text/plain": [
       "(650, 650, 3)"
      ]
     },
     "metadata": {},
     "execution_count": 57
    }
   ],
   "metadata": {}
  },
  {
   "cell_type": "code",
   "execution_count": 58,
   "source": [
    "image.ravel().shape"
   ],
   "outputs": [
    {
     "output_type": "execute_result",
     "data": {
      "text/plain": [
       "(1267500,)"
      ]
     },
     "metadata": {},
     "execution_count": 58
    }
   ],
   "metadata": {}
  },
  {
   "cell_type": "code",
   "execution_count": 59,
   "source": [
    "image.ravel().size"
   ],
   "outputs": [
    {
     "output_type": "execute_result",
     "data": {
      "text/plain": [
       "1267500"
      ]
     },
     "metadata": {},
     "execution_count": 59
    }
   ],
   "metadata": {}
  },
  {
   "cell_type": "code",
   "execution_count": 60,
   "source": [
    "plt.hist(image.ravel(), bins = 256, range = [0,255])\r\n",
    "plt.show()"
   ],
   "outputs": [
    {
     "output_type": "display_data",
     "data": {
      "image/png": "[encoded data removed]",
      "text/plain": [
       "<Figure size 432x288 with 1 Axes>"
      ]
     },
     "metadata": {
      "needs_background": "light"
     }
    }
   ],
   "metadata": {}
  },
  {
   "cell_type": "code",
   "execution_count": 61,
   "source": [
    "colors = ('b', 'g', 'r')\r\n",
    "\r\n",
    "image_ravel = [image[:, :, 0].ravel(), image[:, :, 1].ravel(), image[:, :, 2].ravel()]\r\n",
    "\r\n",
    "plt.hist(image_ravel, color = colors, label = colors)\r\n",
    "plt.legend()\r\n",
    "plt.show()"
   ],
   "outputs": [
    {
     "output_type": "display_data",
     "data": {
      "image/png": "[encoded data removed]",
      "text/plain": [
       "<Figure size 432x288 with 1 Axes>"
      ]
     },
     "metadata": {
      "needs_background": "light"
     }
    }
   ],
   "metadata": {}
  },
  {
   "cell_type": "code",
   "execution_count": 62,
   "source": [
    "colors = ('b', 'g', 'r')\r\n",
    "\r\n",
    "image_ravel = [image[:, :, 0].ravel(), image[:, :, 1].ravel(), image[:, :, 2].ravel()]\r\n",
    "\r\n",
    "plt.hist(image_ravel, color = colors, label = colors, bins= 256, range = [0, 255])\r\n",
    "plt.legend()\r\n",
    "plt.show()"
   ],
   "outputs": [
    {
     "output_type": "display_data",
     "data": {
      "image/png": "[encoded data removed]",
      "text/plain": [
       "<Figure size 432x288 with 1 Axes>"
      ]
     },
     "metadata": {
      "needs_background": "light"
     }
    }
   ],
   "metadata": {}
  },
  {
   "cell_type": "code",
   "execution_count": 63,
   "source": [
    "colors = ('b', 'g', 'r')\r\n",
    "plt.figure(figsize=(16,9))\r\n",
    "\r\n",
    "for i, color in enumerate(colors):\r\n",
    "    histogram = cv2.calcHist([image],[i], None, [256], [0,256])\r\n",
    "    plt.plot(histogram, color= color)\r\n",
    "\r\n",
    "plt.show()"
   ],
   "outputs": [
    {
     "output_type": "display_data",
     "data": {
      "image/png": "[encoded data removed]",
      "text/plain": [
       "<Figure size 1152x648 with 1 Axes>"
      ]
     },
     "metadata": {
      "needs_background": "light"
     }
    }
   ],
   "metadata": {}
  },
  {
   "cell_type": "markdown",
   "source": [
    "# Video 17 Done"
   ],
   "metadata": {}
  },
  {
   "cell_type": "code",
   "execution_count": 64,
   "source": [
    "img_path = r'Photo//13.jpg'\r\n",
    "image = cv2.imread(img_path)\r\n",
    "image = cv2.resize(image, (650, 650))\r\n",
    "\r\n",
    "\r\n",
    "\r\n",
    "cv2.imshow('Image', image)\r\n",
    "cv2.waitKey()\r\n",
    "cv2.destroyAllWindows()"
   ],
   "outputs": [],
   "metadata": {}
  },
  {
   "cell_type": "markdown",
   "source": [
    "# Conver Image in gray scale"
   ],
   "metadata": {}
  },
  {
   "cell_type": "code",
   "execution_count": 66,
   "source": [
    "gray_image = cv2.cvtColor(image, cv2.COLOR_BGR2GRAY)\r\n",
    "\r\n",
    "cv2.imshow('Image', gray_image)\r\n",
    "cv2.waitKey()\r\n",
    "cv2.destroyAllWindows()"
   ],
   "outputs": [],
   "metadata": {}
  },
  {
   "cell_type": "code",
   "execution_count": 67,
   "source": [
    "gray_image # 0== Black, 255 == White"
   ],
   "outputs": [
    {
     "output_type": "execute_result",
     "data": {
      "text/plain": [
       "array([[ 70,  87, 107, ...,  98,  97, 102],\n",
       "       [121, 126, 132, ...,  95, 100,  95],\n",
       "       [118, 125, 127, ...,  91,  95,  87],\n",
       "       ...,\n",
       "       [174, 175, 173, ..., 203, 203, 202],\n",
       "       [173, 172, 174, ..., 201, 200, 197],\n",
       "       [174, 178, 174, ..., 192, 191, 192]], dtype=uint8)"
      ]
     },
     "metadata": {},
     "execution_count": 67
    }
   ],
   "metadata": {}
  },
  {
   "cell_type": "code",
   "execution_count": 69,
   "source": [
    "gray_image_copy = np.copy(gray_image)"
   ],
   "outputs": [],
   "metadata": {}
  },
  {
   "cell_type": "markdown",
   "source": [
    "# Find out white color"
   ],
   "metadata": {}
  },
  {
   "cell_type": "code",
   "execution_count": 72,
   "source": [
    "gray_image_copy[gray_image_copy[:, :] < 200] = 0\r\n",
    "\r\n",
    "cv2.imshow('Image', gray_image_copy)\r\n",
    "cv2.waitKey()\r\n",
    "cv2.destroyAllWindows()"
   ],
   "outputs": [],
   "metadata": {}
  },
  {
   "cell_type": "code",
   "execution_count": 73,
   "source": [
    "image_copy = np.copy(image)"
   ],
   "outputs": [],
   "metadata": {}
  },
  {
   "cell_type": "code",
   "execution_count": 74,
   "source": [
    "image_copy.shape"
   ],
   "outputs": [
    {
     "output_type": "execute_result",
     "data": {
      "text/plain": [
       "(650, 650, 3)"
      ]
     },
     "metadata": {},
     "execution_count": 74
    }
   ],
   "metadata": {}
  },
  {
   "cell_type": "markdown",
   "source": [
    "# Work in Color image"
   ],
   "metadata": {}
  },
  {
   "cell_type": "code",
   "execution_count": 76,
   "source": [
    "image_copy[(image_copy[:, :, 0] < 200) | (image_copy[:, :, 1] < 200) | (image_copy[:, :, 2] < 200)] = 0\r\n",
    "\r\n",
    "\r\n",
    "\r\n",
    "cv2.imshow('Image', image_copy)\r\n",
    "cv2.waitKey()\r\n",
    "cv2.destroyAllWindows()"
   ],
   "outputs": [],
   "metadata": {}
  },
  {
   "cell_type": "markdown",
   "source": [
    "# Video 18 Done"
   ],
   "metadata": {}
  },
  {
   "cell_type": "code",
   "execution_count": 86,
   "source": [
    "img_path = r'Photo//3.jpg'\r\n",
    "image = cv2.imread(img_path)\r\n",
    "image = cv2.resize(image, (650, 650))\r\n",
    "\r\n",
    "\r\n",
    "\r\n",
    "cv2.imshow('Image', image)\r\n",
    "cv2.waitKey()\r\n",
    "cv2.destroyAllWindows()"
   ],
   "outputs": [],
   "metadata": {}
  },
  {
   "cell_type": "markdown",
   "source": [
    "# Blur Image Using Filter2D with 3x3 Kernel"
   ],
   "metadata": {}
  },
  {
   "cell_type": "code",
   "execution_count": 82,
   "source": [
    "one_mat_3_3 = np.ones((3,3), dtype= np.float32)\r\n",
    "one_mat_3_3"
   ],
   "outputs": [
    {
     "output_type": "execute_result",
     "data": {
      "text/plain": [
       "array([[1., 1., 1.],\n",
       "       [1., 1., 1.],\n",
       "       [1., 1., 1.]], dtype=float32)"
      ]
     },
     "metadata": {},
     "execution_count": 82
    }
   ],
   "metadata": {}
  },
  {
   "cell_type": "code",
   "execution_count": 84,
   "source": [
    "one_mat_3_3 = np.ones((3,3), dtype= np.float32) / 9\r\n",
    "one_mat_3_3"
   ],
   "outputs": [
    {
     "output_type": "execute_result",
     "data": {
      "text/plain": [
       "array([[0.11111111, 0.11111111, 0.11111111],\n",
       "       [0.11111111, 0.11111111, 0.11111111],\n",
       "       [0.11111111, 0.11111111, 0.11111111]], dtype=float32)"
      ]
     },
     "metadata": {},
     "execution_count": 84
    }
   ],
   "metadata": {}
  },
  {
   "cell_type": "code",
   "execution_count": 93,
   "source": [
    "one_mat_3_3 = np.ones((3,3), dtype= np.float32) / 9\r\n",
    "blur_img_3_3 = cv2.filter2D(image, -1, one_mat_3_3)\r\n",
    "\r\n",
    "cv2.imshow('blur_img_3_3', blur_img_3_3)\r\n",
    "cv2.imshow('Orginal Image', image)\r\n",
    "cv2.waitKey()\r\n",
    "cv2.destroyAllWindows()\r\n"
   ],
   "outputs": [],
   "metadata": {}
  },
  {
   "cell_type": "markdown",
   "source": [
    "# Blur Image Using Filter 2D with 5x5 Kernel"
   ],
   "metadata": {}
  },
  {
   "cell_type": "code",
   "execution_count": 96,
   "source": [
    "\r\n",
    "one_mat_5_5 = np.ones((5,5), dtype= np.float32) / 25\r\n",
    "one_mat_5_5 = cv2.filter2D(image, -1, one_mat_5_5)\r\n",
    "\r\n",
    "cv2.imshow('blur_img_5_5', one_mat_5_5)\r\n",
    "cv2.imshow('Orginal Image', image)\r\n",
    "cv2.waitKey()\r\n",
    "cv2.destroyAllWindows()\r\n",
    "\r\n"
   ],
   "outputs": [],
   "metadata": {}
  },
  {
   "cell_type": "markdown",
   "source": [
    "# Blur Image Using Filter 2D With 10x10 kornel"
   ],
   "metadata": {}
  },
  {
   "cell_type": "code",
   "execution_count": 97,
   "source": [
    "\r\n",
    "one_mat_10_10 = np.ones((10,10), dtype= np.float32) / 100\r\n",
    "one_mat_10_10 = cv2.filter2D(image, -1, one_mat_10_10)\r\n",
    "\r\n",
    "cv2.imshow('one_mat_10_10', one_mat_10_10)\r\n",
    "cv2.imshow('Orginal Image', image)\r\n",
    "cv2.waitKey()\r\n",
    "cv2.destroyAllWindows()\r\n",
    "\r\n"
   ],
   "outputs": [],
   "metadata": {}
  },
  {
   "cell_type": "markdown",
   "source": [
    "# Video 19 Done"
   ],
   "metadata": {}
  },
  {
   "cell_type": "code",
   "execution_count": 98,
   "source": [
    "img_path = r'Photo//3.jpg'\r\n",
    "image = cv2.imread(img_path)\r\n",
    "image = cv2.resize(image, (650, 650))\r\n",
    "\r\n",
    "\r\n",
    "\r\n",
    "cv2.imshow('Image', image)\r\n",
    "cv2.waitKey()\r\n",
    "cv2.destroyAllWindows()"
   ],
   "outputs": [],
   "metadata": {}
  },
  {
   "cell_type": "markdown",
   "source": [
    "# Averaging Blurring Techniques"
   ],
   "metadata": {}
  },
  {
   "cell_type": "markdown",
   "source": [
    "# Blur Image using cv2.blur() and cv2.boxfilter()"
   ],
   "metadata": {}
  },
  {
   "cell_type": "code",
   "execution_count": 100,
   "source": [
    "img_blur_3 = cv2.blur(image, (3,3))\r\n",
    "\r\n",
    "\r\n",
    "cv2.imshow('Orginal Image', image)\r\n",
    "cv2.imshow('img_blur_3', img_blur_3)\r\n",
    "cv2.waitKey()\r\n",
    "cv2.destroyAllWindows()"
   ],
   "outputs": [],
   "metadata": {}
  },
  {
   "cell_type": "code",
   "execution_count": 101,
   "source": [
    "img_blur_50 = cv2.blur(image, (50,50))\r\n",
    "\r\n",
    "\r\n",
    "cv2.imshow('Orginal Image', image)\r\n",
    "cv2.imshow('img_blur_3', img_blur_50)\r\n",
    "cv2.waitKey()\r\n",
    "cv2.destroyAllWindows()"
   ],
   "outputs": [],
   "metadata": {}
  },
  {
   "cell_type": "markdown",
   "source": [
    "# cv2.boxfilter()"
   ],
   "metadata": {}
  },
  {
   "cell_type": "code",
   "execution_count": 105,
   "source": [
    "img_blur_3_3 = cv2.boxFilter(image, -1, (3, 3))\r\n",
    "\r\n",
    "\r\n",
    "cv2.imshow('Orginal Image', image)\r\n",
    "cv2.imshow('img_blur_3', img_blur_3_3)\r\n",
    "cv2.waitKey()\r\n",
    "cv2.destroyAllWindows()"
   ],
   "outputs": [],
   "metadata": {}
  },
  {
   "cell_type": "code",
   "execution_count": 108,
   "source": [
    "img_blur_3_3 = cv2.boxFilter(image, -1, (3, 3), normalize = False)\r\n",
    "\r\n",
    "\r\n",
    "cv2.imshow('Orginal Image', image)\r\n",
    "cv2.imshow('img_blur_3', img_blur_3_3)\r\n",
    "cv2.waitKey()\r\n",
    "cv2.destroyAllWindows()"
   ],
   "outputs": [],
   "metadata": {}
  },
  {
   "cell_type": "code",
   "execution_count": 109,
   "source": [
    "img_blur_50 = cv2.boxFilter(image, -1, (50, 50))\r\n",
    "\r\n",
    "\r\n",
    "cv2.imshow('Orginal Image', image)\r\n",
    "cv2.imshow('img_blur_3', img_blur_50)\r\n",
    "cv2.waitKey()\r\n",
    "cv2.destroyAllWindows()"
   ],
   "outputs": [],
   "metadata": {}
  },
  {
   "cell_type": "markdown",
   "source": [
    "# Video 20 Done"
   ],
   "metadata": {}
  },
  {
   "cell_type": "markdown",
   "source": [
    "# Gaussing Filtering"
   ],
   "metadata": {}
  },
  {
   "cell_type": "code",
   "execution_count": 110,
   "source": [
    "img_path = r'Photo//3.jpg'\r\n",
    "image = cv2.imread(img_path)\r\n",
    "image = cv2.resize(image, (650, 650))\r\n",
    "\r\n",
    "\r\n",
    "\r\n",
    "cv2.imshow('Image', image)\r\n",
    "cv2.waitKey()\r\n",
    "cv2.destroyAllWindows()"
   ],
   "outputs": [],
   "metadata": {}
  },
  {
   "cell_type": "code",
   "execution_count": 112,
   "source": [
    "blur_img = cv2.GaussianBlur(image, (3,3), sigmaX =  34, sigmaY = 36)\r\n",
    "\r\n",
    "\r\n",
    "cv2.imshow('Orginal', image)\r\n",
    "cv2.imshow('blur_img', blur_img)\r\n",
    "cv2.waitKey()\r\n",
    "cv2.destroyAllWindows()"
   ],
   "outputs": [],
   "metadata": {}
  },
  {
   "cell_type": "code",
   "execution_count": 115,
   "source": [
    "blur_img = cv2.GaussianBlur(image, (1,99), sigmaX =  34, sigmaY = 36)\r\n",
    "\r\n",
    "\r\n",
    "cv2.imshow('Orginal', image)\r\n",
    "cv2.imshow('blur_img', blur_img)\r\n",
    "cv2.waitKey()\r\n",
    "cv2.destroyAllWindows()"
   ],
   "outputs": [],
   "metadata": {}
  },
  {
   "cell_type": "code",
   "execution_count": null,
   "source": [
    "blur_img = cv2.GaussianBlur(image, (1,99), sigmaX =  40, sigmaY = 63)\r\n",
    "\r\n",
    "\r\n",
    "cv2.imshow('Orginal', image)\r\n",
    "cv2.imshow('blur_img', blur_img)\r\n",
    "cv2.waitKey()\r\n",
    "cv2.destroyAllWindows()"
   ],
   "outputs": [],
   "metadata": {}
  },
  {
   "cell_type": "markdown",
   "source": [
    "# Video 22 Done"
   ],
   "metadata": {}
  }
 ],
 "metadata": {
  "orig_nbformat": 4,
  "language_info": {
   "name": "python",
   "version": "3.8.8",
   "mimetype": "text/x-python",
   "codemirror_mode": {
    "name": "ipython",
    "version": 3
   },
   "pygments_lexer": "ipython3",
   "nbconvert_exporter": "python",
   "file_extension": ".py"
  },
  "kernelspec": {
   "name": "python3",
   "display_name": "Python 3.8.8 64-bit ('base': conda)"
  },
  "interpreter": {
   "hash": "5510ba781b539759c4fd268b6dd544da0ad59014850c293321e02d9a1a48577b"
  }
 },
 "nbformat": 4,
 "nbformat_minor": 2
}