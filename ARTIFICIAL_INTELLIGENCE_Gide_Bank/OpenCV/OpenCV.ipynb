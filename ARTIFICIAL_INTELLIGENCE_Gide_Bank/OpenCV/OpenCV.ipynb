{
 "cells": [
  {
   "cell_type": "markdown",
   "source": [
    "# pip install opencv-python  \r\n",
    "# conda install -c conda-forge opencv\r\n",
    "# conda install ipykernel"
   ],
   "metadata": {}
  },
  {
   "cell_type": "code",
   "execution_count": null,
   "source": [
    "import cv2"
   ],
   "outputs": [],
   "metadata": {}
  }
 ],
 "metadata": {
  "orig_nbformat": 4,
  "language_info": {
   "name": "python",
   "version": "3.7.11",
   "mimetype": "text/x-python",
   "codemirror_mode": {
    "name": "ipython",
    "version": 3
   },
   "pygments_lexer": "ipython3",
   "nbconvert_exporter": "python",
   "file_extension": ".py"
  },
  "kernelspec": {
   "name": "python3",
   "display_name": "Python 3.7.11 64-bit ('OpenCV': conda)"
  },
  "interpreter": {
   "hash": "c8a0ea9b5c0d6da81d3028b2c6a9024b1e69ddce5f971e3912739d77dc84a4f1"
  }
 },
 "nbformat": 4,
 "nbformat_minor": 2
}