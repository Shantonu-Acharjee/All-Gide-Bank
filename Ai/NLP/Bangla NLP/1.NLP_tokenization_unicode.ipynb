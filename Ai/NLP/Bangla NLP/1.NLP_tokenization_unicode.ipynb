{
 "cells": [
  {
   "cell_type": "code",
   "execution_count": 2,
   "metadata": {},
   "outputs": [
    {
     "data": {
      "text/plain": [
       "2437"
      ]
     },
     "execution_count": 2,
     "metadata": {},
     "output_type": "execute_result"
    }
   ],
   "source": [
    "c = '\\u0986'\n",
    "ord('অ')"
   ]
  }
 ],
 "metadata": {
  "interpreter": {
   "hash": "283eb0a999a171fed15a3aeed56a310387690296775ea90b5febb2a391a839eb"
  },
  "kernelspec": {
   "display_name": "Python 3.8.8 ('OpenCvEnv': venv)",
   "language": "python",
   "name": "python3"
  },
  "language_info": {
   "codemirror_mode": {
    "name": "ipython",
    "version": 3
   },
   "file_extension": ".py",
   "mimetype": "text/x-python",
   "name": "python",
   "nbconvert_exporter": "python",
   "pygments_lexer": "ipython3",
   "version": "3.6.13"
  },
  "orig_nbformat": 4
 },
 "nbformat": 4,
 "nbformat_minor": 2
}
