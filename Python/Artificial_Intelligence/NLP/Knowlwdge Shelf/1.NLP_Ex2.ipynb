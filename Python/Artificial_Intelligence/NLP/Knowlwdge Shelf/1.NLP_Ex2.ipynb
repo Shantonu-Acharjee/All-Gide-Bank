{
 "cells": [
  {
   "cell_type": "code",
   "execution_count": null,
   "metadata": {},
   "outputs": [],
   "source": []
  }
 ],
 "metadata": {
  "interpreter": {
   "hash": "a406023b35149dec3c8a8ba0a915cf44464a1cc26d069d95331575c7d6d1f862"
  },
  "kernelspec": {
   "display_name": "Python 3.6.13 ('ChatBotEnv')",
   "language": "python",
   "name": "python3"
  },
  "language_info": {
   "name": "python",
   "version": "3.6.13"
  },
  "orig_nbformat": 4
 },
 "nbformat": 4,
 "nbformat_minor": 2
}
