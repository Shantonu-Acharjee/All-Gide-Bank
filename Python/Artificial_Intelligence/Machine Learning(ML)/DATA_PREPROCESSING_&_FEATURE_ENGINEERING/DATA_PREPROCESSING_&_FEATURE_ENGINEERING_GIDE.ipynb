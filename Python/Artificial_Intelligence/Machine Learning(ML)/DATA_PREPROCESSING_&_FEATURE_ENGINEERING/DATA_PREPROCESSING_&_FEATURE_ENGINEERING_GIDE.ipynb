{
 "cells": [
  {
   "cell_type": "markdown",
   "source": [
    "# Numerical Variable"
   ],
   "metadata": {}
  },
  {
   "cell_type": "code",
   "execution_count": null,
   "source": [],
   "outputs": [],
   "metadata": {}
  }
 ],
 "metadata": {
  "orig_nbformat": 4,
  "language_info": {
   "name": "python",
   "version": "3.8.8"
  },
  "kernelspec": {
   "name": "python3",
   "display_name": "Python 3.8.8 64-bit ('base': conda)"
  },
  "interpreter": {
   "hash": "5510ba781b539759c4fd268b6dd544da0ad59014850c293321e02d9a1a48577b"
  }
 },
 "nbformat": 4,
 "nbformat_minor": 2
}